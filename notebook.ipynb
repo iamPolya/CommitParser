{
 "cells": [
  {
   "cell_type": "code",
   "execution_count": 2,
   "metadata": {},
   "outputs": [],
   "source": [
    "import pandas as pd"
   ]
  },
  {
   "cell_type": "code",
   "execution_count": 42,
   "metadata": {
    "scrolled": true
   },
   "outputs": [
    {
     "data": {
      "text/plain": [
       "Index(['ind', 'author', 'changed_rows', 'file_name'], dtype='object')"
      ]
     },
     "execution_count": 42,
     "metadata": {},
     "output_type": "execute_result"
    }
   ],
   "source": [
    "pd.set_option(\"display.precision\", 2)\n",
    "\n",
    "df = pd.read_csv('Bukkit/commit_data.csv')\n",
    "df.columns"
   ]
  },
  {
   "cell_type": "code",
   "execution_count": 43,
   "metadata": {},
   "outputs": [
    {
     "data": {
      "text/html": [
       "<div>\n",
       "<style scoped>\n",
       "    .dataframe tbody tr th:only-of-type {\n",
       "        vertical-align: middle;\n",
       "    }\n",
       "\n",
       "    .dataframe tbody tr th {\n",
       "        vertical-align: top;\n",
       "    }\n",
       "\n",
       "    .dataframe thead th {\n",
       "        text-align: right;\n",
       "    }\n",
       "</style>\n",
       "<table border=\"1\" class=\"dataframe\">\n",
       "  <thead>\n",
       "    <tr style=\"text-align: right;\">\n",
       "      <th></th>\n",
       "      <th>ind</th>\n",
       "      <th>author</th>\n",
       "      <th>changed_rows</th>\n",
       "      <th>file_name</th>\n",
       "    </tr>\n",
       "  </thead>\n",
       "  <tbody>\n",
       "    <tr>\n",
       "      <th>0</th>\n",
       "      <td>1</td>\n",
       "      <td>aviansie-ben</td>\n",
       "      <td>12</td>\n",
       "      <td>entity/Entity.java</td>\n",
       "    </tr>\n",
       "    <tr>\n",
       "      <th>1</th>\n",
       "      <td>2</td>\n",
       "      <td>JeromSar</td>\n",
       "      <td>19</td>\n",
       "      <td>entity/PlayerDeathEvent.java</td>\n",
       "    </tr>\n",
       "    <tr>\n",
       "      <th>2</th>\n",
       "      <td>3</td>\n",
       "      <td>riking</td>\n",
       "      <td>25</td>\n",
       "      <td>entity/Fish.java</td>\n",
       "    </tr>\n",
       "    <tr>\n",
       "      <th>3</th>\n",
       "      <td>3</td>\n",
       "      <td>riking</td>\n",
       "      <td>28</td>\n",
       "      <td>entity/FishHook.java</td>\n",
       "    </tr>\n",
       "    <tr>\n",
       "      <th>4</th>\n",
       "      <td>4</td>\n",
       "      <td>bendem</td>\n",
       "      <td>4</td>\n",
       "      <td>defaults/DeopCommand.java</td>\n",
       "    </tr>\n",
       "    <tr>\n",
       "      <th>...</th>\n",
       "      <td>...</td>\n",
       "      <td>...</td>\n",
       "      <td>...</td>\n",
       "      <td>...</td>\n",
       "    </tr>\n",
       "    <tr>\n",
       "      <th>88</th>\n",
       "      <td>47</td>\n",
       "      <td>amaranth</td>\n",
       "      <td>14</td>\n",
       "      <td>command/SimpleCommandMap.java</td>\n",
       "    </tr>\n",
       "    <tr>\n",
       "      <th>89</th>\n",
       "      <td>48</td>\n",
       "      <td>t00thpick1</td>\n",
       "      <td>23</td>\n",
       "      <td>command/FormattedCommandAlias.java</td>\n",
       "    </tr>\n",
       "    <tr>\n",
       "      <th>90</th>\n",
       "      <td>49</td>\n",
       "      <td>t00thpick1</td>\n",
       "      <td>14</td>\n",
       "      <td>command/FormattedCommandAlias.java</td>\n",
       "    </tr>\n",
       "    <tr>\n",
       "      <th>91</th>\n",
       "      <td>50</td>\n",
       "      <td>t00thpick1</td>\n",
       "      <td>4</td>\n",
       "      <td>command/SimpleCommandMap.java</td>\n",
       "    </tr>\n",
       "    <tr>\n",
       "      <th>92</th>\n",
       "      <td>50</td>\n",
       "      <td>t00thpick1</td>\n",
       "      <td>4</td>\n",
       "      <td>java/JavaPlugin.java</td>\n",
       "    </tr>\n",
       "  </tbody>\n",
       "</table>\n",
       "<p>93 rows × 4 columns</p>\n",
       "</div>"
      ],
      "text/plain": [
       "    ind        author  changed_rows                           file_name\n",
       "0     1  aviansie-ben            12                  entity/Entity.java\n",
       "1     2      JeromSar            19        entity/PlayerDeathEvent.java\n",
       "2     3        riking            25                    entity/Fish.java\n",
       "3     3        riking            28                entity/FishHook.java\n",
       "4     4        bendem             4           defaults/DeopCommand.java\n",
       "..  ...           ...           ...                                 ...\n",
       "88   47      amaranth            14       command/SimpleCommandMap.java\n",
       "89   48    t00thpick1            23  command/FormattedCommandAlias.java\n",
       "90   49    t00thpick1            14  command/FormattedCommandAlias.java\n",
       "91   50    t00thpick1             4       command/SimpleCommandMap.java\n",
       "92   50    t00thpick1             4                java/JavaPlugin.java\n",
       "\n",
       "[93 rows x 4 columns]"
      ]
     },
     "execution_count": 43,
     "metadata": {},
     "output_type": "execute_result"
    }
   ],
   "source": [
    "df"
   ]
  },
  {
   "cell_type": "code",
   "execution_count": 61,
   "metadata": {},
   "outputs": [
    {
     "data": {
      "text/plain": [
       "author\n",
       "Wolvereness      13\n",
       "amaranth         10\n",
       "t00thpick1        6\n",
       "EvilSeph          6\n",
       "gmcferrin         4\n",
       "eueln             2\n",
       "riking            1\n",
       "psycowithespn     1\n",
       "natemort          1\n",
       "mbax              1\n",
       "bendem            1\n",
       "aviansie-ben      1\n",
       "LordRalex         1\n",
       "JeromSar          1\n",
       "Black-Hole        1\n",
       "dtype: int64"
      ]
     },
     "execution_count": 61,
     "metadata": {},
     "output_type": "execute_result"
    }
   ],
   "source": [
    "# Отсортированные авторы по количеству коммитов:\n",
    "\n",
    "df2 = df.drop_duplicates('ind')\n",
    "df2.groupby(['author']).size().sort_values(ascending=False)"
   ]
  },
  {
   "cell_type": "code",
   "execution_count": 48,
   "metadata": {},
   "outputs": [
    {
     "data": {
      "text/plain": [
       "array(['amaranth', 'EvilSeph', 'gmcferrin', 'mbax'], dtype=object)"
      ]
     },
     "execution_count": 48,
     "metadata": {},
     "output_type": "execute_result"
    }
   ],
   "source": [
    "# авторы коммитов с минимальными изменениями (здесь это комиты с 0 количеством изменений,\n",
    "# т.к. количество изменений - количество измененных строк, а были удалены пустые файлы)\n",
    "inf = df.groupby(['ind'])['changed_rows'].sum().sort_values(ascending=False)\n",
    "min_commits = inf.where(inf == inf.min()).dropna().index.values\n",
    "df.loc[(df['ind'].isin(min_commits))]['author'].unique()"
   ]
  },
  {
   "cell_type": "code",
   "execution_count": 49,
   "metadata": {},
   "outputs": [
    {
     "data": {
      "text/plain": [
       "array(['Wolvereness'], dtype=object)"
      ]
     },
     "execution_count": 49,
     "metadata": {},
     "output_type": "execute_result"
    }
   ],
   "source": [
    "# авторы коммитов с максимальными изменениями\n",
    "inf = df.groupby(['ind'])['changed_rows'].sum().sort_values(ascending=False)\n",
    "max_commits = inf.where(inf == inf.max()).dropna().index.values\n",
    "df.loc[(df['ind'].isin(max_commits))]['author'].unique()"
   ]
  },
  {
   "cell_type": "code",
   "execution_count": 51,
   "metadata": {},
   "outputs": [
    {
     "data": {
      "text/plain": [
       "file_name\n",
       "pom.xml                                     10\n",
       "bukkit/Bukkit.java                           5\n",
       "bukkit/Server.java                           4\n",
       "command/FormattedCommandAlias.java           4\n",
       "command/SimpleCommandMap.java                4\n",
       "bukkit/BanList.java                          3\n",
       "plugin/PluginDescriptionFile.java            3\n",
       "bukkit/OfflinePlayer.java                    3\n",
       "plugin/SimplePluginManager.java              2\n",
       "defaults/PardonCommand.java                  2\n",
       "defaults/BanCommand.java                     2\n",
       "entity/EntityDamageByEntityEvent.java        2\n",
       "entity/EntityDamageEvent.java                2\n",
       "defaults/BanListCommand.java                 2\n",
       "block/Skull.java                             2\n",
       "entity/EntityDamageByBlockEvent.java         2\n",
       "defaults/ScoreboardCommand.java              1\n",
       "defaults/ListCommand.java                    1\n",
       "defaults/HelpCommand.java                    1\n",
       "defaults/DeopCommand.java                    1\n",
       "scoreboard/Scoreboard.java                   1\n",
       "bukkit/World.java                            1\n",
       "bukkit/TreeType.java                         1\n",
       "defaults/TellCommand.java                    1\n",
       "bukkit/Material.java                         1\n",
       "bukkit/Location.java                         1\n",
       "bukkit/GameMode.java                         1\n",
       "bukkit/EntityEffect.java                     1\n",
       "bukkit/BukkitMirrorTest.java                 1\n",
       "bukkit/BanEntry.java                         1\n",
       "defaults/TeleportCommand.java                1\n",
       "entity/Entity.java                           1\n",
       "entity/AnimalTamer.java                      1\n",
       "java/JavaPluginLoader.java                   1\n",
       "scoreboard/Objective.java                    1\n",
       "scheduler/BukkitScheduler.java               1\n",
       "scheduler/BukkitRunnable.java                1\n",
       "plugin/PluginAwareness.java                  1\n",
       "player/PlayerPreLoginEvent.java              1\n",
       "player/PlayerFishEvent.java                  1\n",
       "player/PlayerCommandPreprocessEvent.java     1\n",
       "player/PlayerChatEvent.java                  1\n",
       "player/AsyncPlayerPreLoginEvent.java         1\n",
       "map/MapFont.java                             1\n",
       "java/JavaPlugin.java                         1\n",
       "entity/Bat.java                              1\n",
       "file/YamlConfiguration.java                  1\n",
       "file/FileConfiguration.java                  1\n",
       "entity/PlayerDeathEvent.java                 1\n",
       "entity/Player.java                           1\n",
       "entity/HumanEntity.java                      1\n",
       "entity/FishHook.java                         1\n",
       "entity/Fish.java                             1\n",
       "entity/EntityTargetEvent.java                1\n",
       "scoreboard/Score.java                        1\n",
       "entity/CreatureSpawnEvent.java               1\n",
       "block/BlockMultiPlaceEvent.java              1\n",
       "dtype: int64"
      ]
     },
     "execution_count": 51,
     "metadata": {},
     "output_type": "execute_result"
    }
   ],
   "source": [
    "#Файлы и частота их изменения\n",
    "df.groupby(['file_name']).size().sort_values(ascending=False)"
   ]
  }
 ],
 "metadata": {
  "kernelspec": {
   "display_name": "Python 3",
   "language": "python",
   "name": "python3"
  },
  "language_info": {
   "codemirror_mode": {
    "name": "ipython",
    "version": 3
   },
   "file_extension": ".py",
   "mimetype": "text/x-python",
   "name": "python",
   "nbconvert_exporter": "python",
   "pygments_lexer": "ipython3",
   "version": "3.8.3"
  }
 },
 "nbformat": 4,
 "nbformat_minor": 4
}
